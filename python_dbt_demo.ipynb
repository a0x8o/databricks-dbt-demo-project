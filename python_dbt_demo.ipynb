{
 "cells": [
  {
   "cell_type": "code",
   "execution_count": 1,
   "metadata": {},
   "outputs": [],
   "source": [
    "from fal import FalDbt\n",
    "import os"
   ]
  },
  {
   "cell_type": "code",
   "execution_count": 3,
   "metadata": {},
   "outputs": [
    {
     "data": {
      "text/plain": [
       "[['airbnb', 'calendar'],\n",
       " ['airbnb', 'neighbourhoods'],\n",
       " ['airbnb', 'reviews'],\n",
       " ['airbnb', 'listings'],\n",
       " ['tpch', 'orders'],\n",
       " ['tpch', 'customer'],\n",
       " ['tpch', 'lineitem'],\n",
       " ['tpch', 'nation'],\n",
       " ['tpch', 'part'],\n",
       " ['tpch', 'partsupp'],\n",
       " ['tpch', 'region'],\n",
       " ['tpch', 'supplier']]"
      ]
     },
     "execution_count": 3,
     "metadata": {},
     "output_type": "execute_result"
    }
   ],
   "source": [
    "cwd = os.getcwd()\n",
    "faldbt = FalDbt(profiles_dir=cwd, project_dir=cwd)\n",
    "\n",
    "faldbt.list_sources()\n",
    "# [['results', 'ticket_data_sentiment_analysis']]\n",
    "\n",
    "# faldbt.list_models()\n",
    "# # {\n",
    "# #   'zendesk_ticket_metrics': <RunStatus.Success: 'success'>, \n",
    "# #   'stg_o3values': <RunStatus.Success: 'success'>, \n",
    "# #   'stg_zendesk_ticket_data': <RunStatus.Success: 'success'>, \n",
    "# #   'stg_counties': <RunStatus.Success: 'success'>\n",
    "# # }"
   ]
  }
 ],
 "metadata": {
  "interpreter": {
   "hash": "f8c9727d417bd174c77210decdd1a2db8a2788f619ffa07b5ee607dc4b837a4b"
  },
  "kernelspec": {
   "display_name": "Python 3.8.9 64-bit",
   "language": "python",
   "name": "python3"
  },
  "language_info": {
   "codemirror_mode": {
    "name": "ipython",
    "version": 3
   },
   "file_extension": ".py",
   "mimetype": "text/x-python",
   "name": "python",
   "nbconvert_exporter": "python",
   "pygments_lexer": "ipython3",
   "version": "3.9.12"
  },
  "orig_nbformat": 4
 },
 "nbformat": 4,
 "nbformat_minor": 2
}
